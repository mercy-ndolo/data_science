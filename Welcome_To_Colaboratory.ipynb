{
  "cells": [
    {
      "cell_type": "markdown",
      "metadata": {
        "id": "view-in-github",
        "colab_type": "text"
      },
      "source": [
        "<a href=\"https://colab.research.google.com/github/mercy-ndolo/data_science/blob/main/Welcome_To_Colaboratory.ipynb\" target=\"_parent\"><img src=\"https://colab.research.google.com/assets/colab-badge.svg\" alt=\"Open In Colab\"/></a>"
      ]
    },
    {
      "cell_type": "code",
      "source": [
        "import pandas as pd\n",
        "from sklearn.model_selection import train_test_split\n",
        "from sklearn.linear_model import LogisticRegression\n",
        "from sklearn.metrics import confusion_matrix, classification_report\n",
        "from sklearn.datasets import load_iris\n",
        "import numpy as np\n",
        "import statsmodels.api as sm\n",
        "\n",
        "# Load the dataset\n",
        "iris = load_iris()\n",
        "X = pd.DataFrame(iris.data, columns=iris.feature_names)\n",
        "y = iris.target\n",
        "\n",
        "# Split the dataset into training and testing sets\n",
        "X_train, X_test, y_train, y_test = train_test_split(X, y, test_size=0.3, random_state=42)\n",
        "\n",
        "# Create and train the logistic regression model\n",
        "model = LogisticRegression(max_iter=10000, multi_class='multinomial')\n",
        "model.fit(X_train, y_train)\n",
        "\n",
        "# Make predictions and evaluate the model\n",
        "predictions = model.predict(X_test)\n",
        "print(\"\\nConfusion Matrix:\\n\", confusion_matrix(y_test, predictions))\n",
        "print(\"\\nClassification Report:\\n\", classification_report(y_test, predictions))\n",
        "\n",
        "# Analyze the coefficients\n",
        "coefficients = pd.DataFrame(model.coef_, columns=X.columns)\n",
        "coefficients['intercept'] = model.intercept_\n",
        "print(\"\\nCoefficients of the model:\\n\", coefficients)\n",
        "\n",
        "# If you want p-values and more statistics, use statsmodels\n",
        "X_train_const = sm.add_constant(X_train) # adding a constant\n",
        "\n",
        "model_sm = sm.MNLogit(y_train, X_train_const)\n",
        "result = model_sm.fit()\n",
        "\n",
        "print(result.summary())\n",
        "\n",
        "\n",
        "# In[ ]:\n",
        "\n",
        "\n",
        "\n"
      ],
      "metadata": {
        "colab": {
          "base_uri": "https://localhost:8080/"
        },
        "id": "AO7BU_fZJAd_",
        "outputId": "7ccbe3ee-4284-4d58-a30f-d223299f9b96"
      },
      "execution_count": 4,
      "outputs": [
        {
          "output_type": "stream",
          "name": "stdout",
          "text": [
            "\n",
            "Confusion Matrix:\n",
            " [[19  0  0]\n",
            " [ 0 13  0]\n",
            " [ 0  0 13]]\n",
            "\n",
            "Classification Report:\n",
            "               precision    recall  f1-score   support\n",
            "\n",
            "           0       1.00      1.00      1.00        19\n",
            "           1       1.00      1.00      1.00        13\n",
            "           2       1.00      1.00      1.00        13\n",
            "\n",
            "    accuracy                           1.00        45\n",
            "   macro avg       1.00      1.00      1.00        45\n",
            "weighted avg       1.00      1.00      1.00        45\n",
            "\n",
            "\n",
            "Coefficients of the model:\n",
            "    sepal length (cm)  sepal width (cm)  petal length (cm)  petal width (cm)  \\\n",
            "0          -0.404609          0.868456          -2.278007         -0.957490   \n",
            "1           0.466521         -0.375242          -0.187680         -0.720368   \n",
            "2          -0.061912         -0.493214           2.465686          1.677858   \n",
            "\n",
            "   intercept  \n",
            "0   8.862172  \n",
            "1   2.209910  \n",
            "2 -11.072082  \n",
            "Warning: Maximum number of iterations has been exceeded.\n",
            "         Current function value: 0.053201\n",
            "         Iterations: 35\n",
            "                          MNLogit Regression Results                          \n",
            "==============================================================================\n",
            "Dep. Variable:                      y   No. Observations:                  105\n",
            "Model:                        MNLogit   Df Residuals:                       95\n",
            "Method:                           MLE   Df Model:                            8\n",
            "Date:                Sun, 04 Feb 2024   Pseudo R-squ.:                  0.9514\n",
            "Time:                        22:03:52   Log-Likelihood:                -5.5861\n",
            "converged:                      False   LL-Null:                       -115.00\n",
            "Covariance Type:            nonrobust   LLR p-value:                 6.782e-43\n",
            "=====================================================================================\n",
            "              y=1       coef    std err          z      P>|z|      [0.025      0.975]\n",
            "-------------------------------------------------------------------------------------\n",
            "const                -1.8524    6.5e+05  -2.85e-06      1.000   -1.27e+06    1.27e+06\n",
            "sepal length (cm)   -10.0814   1.94e+05   -5.2e-05      1.000    -3.8e+05     3.8e+05\n",
            "sepal width (cm)     -4.9585   1.12e+05  -4.44e-05      1.000   -2.19e+05    2.19e+05\n",
            "petal length (cm)    24.2208   1.01e+05      0.000      1.000   -1.97e+05    1.97e+05\n",
            "petal width (cm)     10.8138   1.59e+05   6.81e-05      1.000   -3.11e+05    3.11e+05\n",
            "-------------------------------------------------------------------------------------\n",
            "              y=2       coef    std err          z      P>|z|      [0.025      0.975]\n",
            "-------------------------------------------------------------------------------------\n",
            "const               -37.3445    6.5e+05  -5.75e-05      1.000   -1.27e+06    1.27e+06\n",
            "sepal length (cm)   -12.2134   1.94e+05   -6.3e-05      1.000    -3.8e+05     3.8e+05\n",
            "sepal width (cm)    -11.7791   1.12e+05     -0.000      1.000   -2.19e+05    2.19e+05\n",
            "petal length (cm)    32.5013   1.01e+05      0.000      1.000   -1.97e+05    1.97e+05\n",
            "petal width (cm)     27.1794   1.59e+05      0.000      1.000   -3.11e+05    3.11e+05\n",
            "=====================================================================================\n"
          ]
        },
        {
          "output_type": "stream",
          "name": "stderr",
          "text": [
            "/usr/local/lib/python3.10/dist-packages/statsmodels/base/model.py:607: ConvergenceWarning: Maximum Likelihood optimization failed to converge. Check mle_retvals\n",
            "  warnings.warn(\"Maximum Likelihood optimization failed to \"\n"
          ]
        }
      ]
    }
  ],
  "metadata": {
    "colab": {
      "name": "Welcome To Colaboratory",
      "toc_visible": true,
      "provenance": [],
      "include_colab_link": true
    },
    "kernelspec": {
      "display_name": "Python 3",
      "name": "python3"
    }
  },
  "nbformat": 4,
  "nbformat_minor": 0
}